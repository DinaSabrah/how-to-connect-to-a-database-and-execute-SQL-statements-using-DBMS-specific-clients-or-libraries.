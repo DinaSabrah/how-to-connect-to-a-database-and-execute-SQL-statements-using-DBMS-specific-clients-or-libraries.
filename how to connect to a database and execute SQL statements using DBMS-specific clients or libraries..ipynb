{
 "cells": [
  {
   "cell_type": "markdown",
   "id": "824d31b6",
   "metadata": {},
   "source": [
    "1. Connecting to a PostgreSQL Database using psycopg2 (Python Library):"
   ]
  },
  {
   "cell_type": "code",
   "execution_count": null,
   "id": "314e5b92",
   "metadata": {},
   "outputs": [],
   "source": [
    "import psycopg2\n",
    "\n",
    "# Database connection parameters\n",
    "db_params = {\n",
    "    'host': 'your_host',\n",
    "    'database': 'your_database',\n",
    "    'user': 'your_user',\n",
    "    'password': 'your_password'\n",
    "}\n",
    "\n",
    "try:\n",
    "    # Establish a connection to the PostgreSQL database\n",
    "    connection = psycopg2.connect(**db_params)\n",
    "\n",
    "    # Create a cursor object to execute SQL statements\n",
    "    cursor = connection.cursor()\n",
    "\n",
    "    # Example SQL query\n",
    "    sql_query = \"SELECT * FROM your_table;\"\n",
    "\n",
    "    # Execute the SQL query\n",
    "    cursor.execute(sql_query)\n",
    "\n",
    "    # Fetch the result (for SELECT queries)\n",
    "    result = cursor.fetchall()\n",
    "    print(result)\n",
    "\n",
    "    # Commit the transaction (for data modification queries)\n",
    "    connection.commit()\n",
    "\n",
    "except Exception as e:\n",
    "    print(f\"Error: {e}\")\n",
    "\n",
    "finally:\n",
    "    # Close the cursor and connection\n",
    "    cursor.close()\n",
    "    connection.close()\n"
   ]
  },
  {
   "cell_type": "markdown",
   "id": "c9dd8697",
   "metadata": {},
   "source": [
    "2. Connecting to a MySQL Database using mysql-connector (Python Library):"
   ]
  },
  {
   "cell_type": "code",
   "execution_count": null,
   "id": "908ad691",
   "metadata": {},
   "outputs": [],
   "source": [
    "import mysql.connector\n",
    "\n",
    "# Database connection parameters\n",
    "db_params = {\n",
    "    'host': 'your_host',\n",
    "    'database': 'your_database',\n",
    "    'user': 'your_user',\n",
    "    'password': 'your_password'\n",
    "}\n",
    "\n",
    "try:\n",
    "    # Establish a connection to the MySQL database\n",
    "    connection = mysql.connector.connect(**db_params)\n",
    "\n",
    "    # Create a cursor object to execute SQL statements\n",
    "    cursor = connection.cursor()\n",
    "\n",
    "    # Example SQL query\n",
    "    sql_query = \"SELECT * FROM your_table;\"\n",
    "\n",
    "    # Execute the SQL query\n",
    "    cursor.execute(sql_query)\n",
    "\n",
    "    # Fetch the result (for SELECT queries)\n",
    "    result = cursor.fetchall()\n",
    "    print(result)\n",
    "\n",
    "    # Commit the transaction (for data modification queries)\n",
    "    connection.commit()\n",
    "\n",
    "except Exception as e:\n",
    "    print(f\"Error: {e}\")\n",
    "\n",
    "finally:\n",
    "    # Close the cursor and connection\n",
    "    cursor.close()\n",
    "    connection.close()\n"
   ]
  },
  {
   "cell_type": "markdown",
   "id": "3a8a5f39",
   "metadata": {},
   "source": [
    "Replace 'your_host', 'your_database', 'your_user', and 'your_password' with the appropriate values for your PostgreSQL or MySQL database."
   ]
  },
  {
   "cell_type": "markdown",
   "id": "cc8f4d35",
   "metadata": {},
   "source": [
    "I import the necessary library (psycopg2 or mysql.connector) for database connectivity."
   ]
  },
  {
   "cell_type": "markdown",
   "id": "cc9a9d77",
   "metadata": {},
   "source": [
    "I define connection parameters (host, database, user, and password)."
   ]
  },
  {
   "cell_type": "markdown",
   "id": "4eeaf3f9",
   "metadata": {},
   "source": [
    "I establish a connection to the database, create a cursor object, and execute SQL queries."
   ]
  }
 ],
 "metadata": {
  "kernelspec": {
   "display_name": "Python 3 (ipykernel)",
   "language": "python",
   "name": "python3"
  },
  "language_info": {
   "codemirror_mode": {
    "name": "ipython",
    "version": 3
   },
   "file_extension": ".py",
   "mimetype": "text/x-python",
   "name": "python",
   "nbconvert_exporter": "python",
   "pygments_lexer": "ipython3",
   "version": "3.9.7"
  }
 },
 "nbformat": 4,
 "nbformat_minor": 5
}
